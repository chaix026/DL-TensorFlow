{
 "cells": [
  {
   "cell_type": "code",
   "execution_count": 7,
   "id": "d9f1dcb6",
   "metadata": {
    "scrolled": false
   },
   "outputs": [],
   "source": [
    "# In Anaconda Prompt, set up a conda environment: conda create --name py3-TF2\n",
    "# Activate the environment: conda activate py3-TF2\n",
    "# Allow conda environment in Jupyter: conda install ipykernel\n",
    "# Show env\n",
    "\n",
    "\n",
    "# ! pip install tensorflow\n",
    "# ! pip install scikit-learn\n",
    "# ! pip install tensorflow-datasets"
   ]
  },
  {
   "cell_type": "code",
   "execution_count": 1,
   "id": "916a8e45",
   "metadata": {
    "scrolled": true
   },
   "outputs": [],
   "source": [
    "import tensorflow as tf"
   ]
  },
  {
   "cell_type": "code",
   "execution_count": 2,
   "id": "1c80ecb7",
   "metadata": {},
   "outputs": [
    {
     "name": "stdout",
     "output_type": "stream",
     "text": [
      "2.16.1\n"
     ]
    }
   ],
   "source": [
    "print(tf.__version__)"
   ]
  }
 ],
 "metadata": {
  "kernelspec": {
   "display_name": "py3-TF2",
   "language": "python",
   "name": "python3"
  },
  "language_info": {
   "codemirror_mode": {
    "name": "ipython",
    "version": 3
   },
   "file_extension": ".py",
   "mimetype": "text/x-python",
   "name": "python",
   "nbconvert_exporter": "python",
   "pygments_lexer": "ipython3",
   "version": "3.12.2"
  }
 },
 "nbformat": 4,
 "nbformat_minor": 5
}
